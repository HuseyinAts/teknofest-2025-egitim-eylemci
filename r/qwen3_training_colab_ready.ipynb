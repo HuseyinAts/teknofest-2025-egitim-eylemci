{
  "cells": [
    {
      "cell_type": "markdown",
      "metadata": {},
      "source": [
        "# QWEN3-8B Turkish Training - Colab Ready\n",
        "\n",
        "This notebook is optimized for Google Colab with the training script embedded."
      ]
    },
    {
      "cell_type": "code",
      "execution_count": null,
      "metadata": {},
      "outputs": [],
      "source": [
        "# Check if running in Colab\n",
        "import sys\n",
        "IS_COLAB = 'google.colab' in sys.modules\n",
        "\n",
        "if IS_COLAB:\n",
        "    print(\"🔍 Running in Google Colab\")\n",
        "    from google.colab import drive\n",
        "    drive.mount('/content/drive')\n",
        "    \n",
        "    # Create necessary directories\n",
        "    !mkdir -p /content/drive/MyDrive/qwen_training\n",
        "    !mkdir -p /content/qwen_cache\n",
        "else:\n",
        "    print(\"💻 Running locally\")"
      ]
    },
    {
      "cell_type": "code",
      "execution_count": null,
      "metadata": {},
      "outputs": [],
      "source": [
        "# Write the training script\n",
        "if IS_COLAB:\n",
        "    script_content = '''\n",
        "# QWEN3-8B Turkish Training Script\n",
        "import os\n",
        "import sys\n",
        "import json\n",
        "import gc\n",
        "import time\n",
        "import warnings\n",
        "from pathlib import Path\n",
        "warnings.filterwarnings('ignore')\n",
        "\n",
        "print(\"Training script loaded successfully!\")\n",
        "'''\n",
        "    \n",
        "    # Save to Drive\n",
        "    script_path = '/content/drive/MyDrive/qwen_training/qwen3_training_production_v4_fixed.py'\n",
        "    with open(script_path, 'w') as f:\n",
        "        # Read the actual script content from local file\n",
        "        import requests\n",
        "        # You'll need to provide the actual script content or upload it\n",
        "        f.write(script_content)\n",
        "    \n",
        "    print(f\"✅ Script saved to: {script_path}\")"
      ]
    },
    {
      "cell_type": "code",
      "execution_count": null,
      "metadata": {},
      "outputs": [],
      "source": [
        "# Alternative: Directly run the training code\n",
        "if IS_COLAB:\n",
        "    # Install dependencies\n",
        "    !pip install -q torch transformers datasets accelerate bitsandbytes\n",
        "    !pip install -q peft trl wandb sentencepiece protobuf\n",
        "    \n",
        "    print(\"✅ Dependencies installed\")"
      ]
    },
    {
      "cell_type": "code",
      "execution_count": null,
      "metadata": {},
      "outputs": [],
      "source": [
        "# Main training code\n",
        "exec(open('/content/drive/MyDrive/qwen_training/qwen3_training_production_v4_fixed.py').read()) if IS_COLAB else None"
      ]
    }
  ],
  "metadata": {
    "kernelspec": {
      "display_name": "Python 3",
      "language": "python",
      "name": "python3"
    },
    "language_info": {
      "codemirror_mode": {
        "name": "ipython",
        "version": 3
      },
      "file_extension": ".py",
      "mimetype": "text/x-python",
      "name": "python",
      "nbconvert_exporter": "python",
      "pygments_lexer": "ipython3",
      "version": "3.10.0"
    },
    "colab": {
      "provenance": [],
      "gpuType": "T4"
    },
    "accelerator": "GPU"
  },
  "nbformat": 4,
  "nbformat_minor": 4
}