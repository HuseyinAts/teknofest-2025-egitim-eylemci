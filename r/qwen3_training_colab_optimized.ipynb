{
 "cells": [
  {
   "cell_type": "markdown",
   "metadata": {
    "id": "colab-title"
   },
   "source": [
    "# 🚀 QWEN3-8B Turkish Training - Google Colab Optimized\n",
    "\n",
    "## Production Ready v4.0 ULTIMATE - Colab Edition\n",
    "\n",
    "Bu notebook, QWEN3 modelini Türkçe veri setiyle eğitmek için özel olarak Google Colab'a optimize edilmiştir.\n",
    "\n",
    "### 🎯 Özellikler:\n",
    "- ✅ Deterministic tokenization\n",
    "- ✅ Memory efficient EMA and teacher caching\n",
    "- ✅ Updated dependencies\n",
    "- ✅ Comprehensive error recovery\n",
    "- ✅ Config validation layer\n",
    "- ✅ Health monitoring dashboard\n",
    "- ✅ Mixed precision auto-detection\n",
    "- ✅ Dataset streaming\n",
    "- ✅ Advanced auto-tuning\n",
    "- ✅ Google Colab optimized\n",
    "- ✅ Interactive widgets\n",
    "\n",
    "### 📋 Gereksinimler:\n",
    "- Google Colab Pro (önerilen) veya ücretsiz GPU\n",
    "- Google Drive (model ve checkpoint'leri kaydetmek için)\n",
    "\n",
    "### 🚀 Kullanım:\n",
    "1. Runtime > Change runtime type > GPU seçin\n",
    "2. Tüm hücreleri sırayla çalıştırın\n",
    "3. Eğitim ilerlemesini izleyin"
   ]
  },
  {
   "cell_type": "markdown",
   "metadata": {
    "id": "setup-section"
   },
   "source": [
    "## 🔧 1. Kurulum ve Hazırlık"
   ]
  },
  {
   "cell_type": "code",
   "execution_count": null,
   "metadata": {
    "id": "imports-and-setup",
    "cellView": "form"
   },
   "outputs": [],
   "source": [
    "#@title 📦 Kütüphaneler ve Başlangıç Ayarları { display-mode: \"form\" }\n",
    "\n",
    "import os\n",
    "import sys\n",
    "import json\n",
    "import gc\n",
    "import time\n",
    "import hashlib\n",
    "import traceback\n",
    "import warnings\n",
    "from pathlib import Path\n",
    "from typing import Dict, Any, Optional, List, Union, Tuple, Callable\n",
    "from dataclasses import dataclass, field, asdict\n",
    "from abc import ABC, abstractmethod\n",
    "from functools import lru_cache, wraps\n",
    "from collections import deque\n",
    "from datetime import datetime\n",
    "import logging\n",
    "import psutil\n",
    "import platform\n",
    "import subprocess\n",
    "from contextlib import contextmanager\n",
    "import threading\n",
    "from queue import Queue\n",
    "warnings.filterwarnings('ignore')\n",
    "\n",
    "# Google Colab detection\n",
    "IS_COLAB = 'google.colab' in sys.modules\n",
    "print(f\"🔍 Google Colab ortamı: {'✅ Tespit edildi' if IS_COLAB else '❌ Bulunamadı'}\")\n",
    "\n",
    "if IS_COLAB:\n",
    "    from google.colab import drive, output, files\n",
    "    from IPython.display import display, HTML, clear_output\n",
    "    import ipywidgets as widgets\n",
    "    \n",
    "    # Enable widgets\n",
    "    output.enable_custom_widget_manager()\n",
    "    \n",
    "    print(\"📱 Google Colab widget'ları etkinleştirildi\")\n",
    "else:\n",
    "    print(\"⚠️ Bu notebook Google Colab için optimize edilmiştir\")"
   ]
  },
  {
   "cell_type": "code",
   "execution_count": null,
   "metadata": {
    "id": "drive-mount",
    "cellView": "form"
   },
   "outputs": [],
   "source": [
    "#@title 💾 Google Drive Bağlama { display-mode: \"form\" }\n",
    "\n",
    "if IS_COLAB:\n",
    "    try:\n",
    "        print(\"🔗 Google Drive bağlanıyor...\")\n",
    "        drive.mount('/content/drive', force_remount=True)\n",
    "        DRIVE_PATH = Path('/content/drive/MyDrive/qwen_training')\n",
    "        DRIVE_PATH.mkdir(parents=True, exist_ok=True)\n",
    "        print(f\"✅ Google Drive başarıyla bağlandı: {DRIVE_PATH}\")\n",
    "        \n",
    "        # Create subdirectories\n",
    "        (DRIVE_PATH / 'checkpoints').mkdir(exist_ok=True)\n",
    "        (DRIVE_PATH / 'logs').mkdir(exist_ok=True)\n",
    "        (DRIVE_PATH / 'models').mkdir(exist_ok=True)\n",
    "        print(\"📁 Klasör yapısı oluşturuldu\")\n",
    "        \n",
    "    except Exception as e:\n",
    "        print(f\"⚠️ Google Drive bağlantısı başarısız: {e}\")\n",
    "        print(\"📂 Yerel dizin kullanılacak\")\n",
    "        DRIVE_PATH = Path('/content/qwen_training')\n",
    "        DRIVE_PATH.mkdir(parents=True, exist_ok=True)\n",
    "else:\n",
    "    DRIVE_PATH = Path('./qwen_training')\n",
    "    DRIVE_PATH.mkdir(parents=True, exist_ok=True)\n",
    "\n",
    "print(f\"📍 Çalışma dizini: {DRIVE_PATH}\")"
   ]
  },
  {
   "cell_type": "code",
   "execution_count": null,
   "metadata": {
    "id": "gpu-check",
    "cellView": "form"
   },
   "outputs": [],
   "source": [
    "#@title 🖥️ GPU Durumu Kontrolü { display-mode: \"form\" }\n",
    "\n",
    "if IS_COLAB:\n",
    "    # Check GPU availability\n",
    "    import subprocess\n",
    "    result = subprocess.run(['nvidia-smi'], capture_output=True, text=True)\n",
    "    \n",
    "    if result.returncode == 0:\n",
    "        print(\"🎮 GPU Bilgileri:\")\n",
    "        print(result.stdout)\n",
    "    else:\n",
    "        print(\"❌ GPU bulunamadı. Runtime > Change runtime type > GPU seçin\")\n",
    "        \n",
    "    # Check GPU type and memory\n",
    "    try:\n",
    "        import torch\n",
    "        if torch.cuda.is_available():\n",
    "            gpu_name = torch.cuda.get_device_name(0)\n",
    "            gpu_memory = torch.cuda.get_device_properties(0).total_memory / 1e9\n",
    "            print(f\"\\n🚀 GPU: {gpu_name}\")\n",
    "            print(f\"💾 VRAM: {gpu_memory:.1f} GB\")\n",
    "            \n",
    "            # Colab specific recommendations\n",
    "            if 'T4' in gpu_name:\n",
    "                print(\"📝 T4 GPU tespit edildi - Ücretsiz Colab tier\")\n",
    "                print(\"💡 Küçük batch size ve hafif model önerilir\")\n",
    "            elif 'P100' in gpu_name:\n",
    "                print(\"📝 P100 GPU tespit edildi - Colab Pro\")\n",
    "                print(\"💡 Orta seviye training mümkün\")\n",
    "            elif 'V100' in gpu_name:\n",
    "                print(\"📝 V100 GPU tespit edildi - Colab Pro+\")\n",
    "                print(\"💡 Yüksek performanslı training mümkün\")\n",
    "            elif 'A100' in gpu_name:\n",
    "                print(\"📝 A100 GPU tespit edildi - Premium\")\n",
    "                print(\"💡 Maximum performans training mümkün\")\n",
    "        else:\n",
    "            print(\"❌ CUDA GPU bulunamadı\")\n",
    "    except ImportError:\n",
    "        print(\"⚠️ PyTorch henüz yüklenmedi\")\n",
    "else:\n",
    "    print(\"ℹ️ Lokal ortam - GPU durumunu manuel kontrol edin\")"
   ]
  },
  {
   "cell_type": "markdown",
   "metadata": {
    "id": "install-section"
   },
   "source": [
    "## 📦 2. Paket Kurulumu"
   ]
  },
  {
   "cell_type": "code",
   "execution_count": null,
   "metadata": {
    "id": "install-packages",
    "cellView": "form"
   },
   "outputs": [],
   "source": [
    "#@title 🔧 Gerekli Paketlerin Kurulumu { display-mode: \"form\" }\n",
    "\n",
    "def install_packages():\n",
    "    \"\"\"Install required packages optimized for Google Colab\"\"\"\n",
    "    \n",
    "    print(\"📦 Paket kurulumu başlıyor...\")\n",
    "    \n",
    "    # Core packages for Colab\n",
    "    REQUIRED_PACKAGES = [\n",
    "        \"transformers\",\n",
    "        \"datasets\", \n",
    "        \"accelerate\",\n",
    "        \"peft\",\n",
    "        \"bitsandbytes\",\n",
    "        \"sentencepiece\",\n",
    "        \"tiktoken\",\n",
    "        \"trl\",\n",
    "        \"psutil\",\n",
    "        \"einops\",\n",
    "        \"safetensors\"\n",
    "    ]\n",
    "    \n",
    "    OPTIONAL_PACKAGES = [\n",
    "        \"wandb\"\n",
    "    ]\n",
    "    \n",
    "    def install_package(package: str, upgrade: bool = False) -> bool:\n",
    "        try:\n",
    "            cmd = f\"pip install -q {'--upgrade' if upgrade else ''} {package}\"\n",
    "            result = subprocess.run(cmd, shell=True, capture_output=True, text=True)\n",
    "            if result.returncode == 0:\n",
    "                print(f\"✅ {package}\")\n",
    "                return True\n",
    "            else:\n",
    "                print(f\"❌ {package}: {result.stderr[:100]}...\")\n",
    "                return False\n",
    "        except Exception as e:\n",
    "            print(f\"❌ {package}: {str(e)[:100]}...\")\n",
    "            return False\n",
    "    \n",
    "    # Install core packages\n",
    "    print(\"\\n🔧 Temel paketler kuruluyor...\")\n",
    "    for package in REQUIRED_PACKAGES:\n",
    "        install_package(package)\n",
    "    \n",
    "    # Install optional packages\n",
    "    print(\"\\n🔧 Opsiyonel paketler kuruluyor...\")\n",
    "    for package in OPTIONAL_PACKAGES:\n",
    "        try:\n",
    "            install_package(package)\n",
    "        except:\n",
    "            print(f\"⚠️ {package} atlandı\")\n",
    "    \n",
    "    print(\"\\n✅ Paket kurulumu tamamlandı!\")\n",
    "\n",
    "# Run installation\n",
    "install_packages()\n",
    "\n",
    "# Import check\n",
    "try:\n",
    "    import torch\n",
    "    import transformers\n",
    "    print(f\"\\n📊 PyTorch: {torch.__version__}\")\n",
    "    print(f\"📊 Transformers: {transformers.__version__}\")\n",
    "    print(f\"📊 CUDA Available: {torch.cuda.is_available()}\")\n",
    "except ImportError as e:\n",
    "    print(f\"⚠️ Import hatası: {e}\")\n",
    "    print(\"🔄 Lütfen runtime'ı restart edin ve tekrar deneyin\")"
   ]
  },
  {
   "cell_type": "markdown",
   "metadata": {
    "id": "config-section"
   },
   "source": [
    "## ⚙️ 3. Eğitim Yapılandırması"
   ]
  },
  {
   "cell_type": "code",
   "execution_count": null,
   "metadata": {
    "id": "training-config-interactive",
    "cellView": "form"
   },
   "outputs": [],
   "source": [
    "#@title 🎯 Eğitim Parametreleri { display-mode: \"form\" }\n",
    "\n",
    "# Interactive configuration for Colab\n",
    "model_name = \"microsoft/phi-2\" #@param [\"microsoft/phi-2\", \"Qwen/Qwen2.5-7B-Instruct\", \"Qwen/Qwen2-7B\"] {type:\"string\"}\n",
    "num_epochs = 3 #@param {type:\"slider\", min:1, max:10, step:1}\n",
    "learning_rate = 0.00002 #@param {type:\"number\"}\n",
    "batch_size = 1 #@param {type:\"slider\", min:1, max:8, step:1}\n",
    "gradient_accumulation_steps = 8 #@param {type:\"slider\", min:1, max:32, step:1}\n",
    "max_length = 256 #@param {type:\"slider\", min:128, max:1024, step:64}\n",
    "use_lora = True #@param {type:\"boolean\"}\n",
    "lora_rank = 8 #@param {type:\"slider\", min:4, max:64, step:4}\n",
    "use_4bit = True #@param {type:\"boolean\"}\n",
    "max_train_samples = 1000 #@param {type:\"slider\", min:100, max:10000, step:100}\n",
    "\n",
    "print(f\"📊 Seçilen Model: {model_name}\")\n",
    "print(f\"📊 Epoch Sayısı: {num_epochs}\")\n",
    "print(f\"📊 Learning Rate: {learning_rate}\")\n",
    "print(f\"📊 Batch Size: {batch_size}\")\n",
    "print(f\"📊 Gradient Accumulation: {gradient_accumulation_steps}\")\n",
    "print(f\"📊 Max Length: {max_length}\")\n",
    "print(f\"📊 LoRA: {'✅' if use_lora else '❌'}\")\n",
    "print(f\"📊 4-bit Quantization: {'✅' if use_4bit else '❌'}\")\n",
    "print(f\"📊 Max Train Samples: {max_train_samples}\")"
   ]
  },
  {
   "cell_type": "markdown",
   "metadata": {
    "id": "training-section"
   },
   "source": [
    "## 🎯 4. Ana Eğitim Kodu"
   ]
  },
  {
   "cell_type": "code",
   "execution_count": null,
   "metadata": {
    "id": "main-training-code"
   },
   "outputs": [],
   "source": [
    "# Import the main training script\n",
    "exec(open('/content/drive/MyDrive/qwen_training/qwen3_training_production_v4_fixed.py').read()) if IS_COLAB else None\n",
    "\n",
    "# Or run training directly\n",
    "if not IS_COLAB:\n",
    "    print(\"⚠️ Bu notebook Google Colab için tasarlanmıştır.\")\n",
    "    print(\"Lokal çalıştırma için qwen3_training_production_v4_fixed.py dosyasını kullanın.\")"
   ]
  }
 ],
 "metadata": {
  "accelerator": "GPU",
  "colab": {
   "provenance": [],
   "machine_shape": "hm"
  },
  "kernelspec": {
   "display_name": "Python 3",
   "name": "python3"
  },
  "language_info": {
   "name": "python",
   "version": "3.10.0"
  }
 },
 "nbformat": 4,
 "nbformat_minor": 0
}