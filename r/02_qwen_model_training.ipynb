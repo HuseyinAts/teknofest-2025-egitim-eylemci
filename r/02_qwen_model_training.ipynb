{
 "cells": [
  {
   "cell_type": "markdown",
   "metadata": {},
   "source": [
    "# Qwen3-8B Model Fine-tuning\n",
    "## TEKNOFEST 2025 - Eğitim Teknolojileri\n",
    "\n",
    "Bu notebook, Qwen3-8B modelini 4-bit kuantizasyon ve LoRA ile fine-tune etmek için hazırlanmıştır."
   ]
  },
  {
   "cell_type": "code",
   "execution_count": null,
   "metadata": {},
   "outputs": [],
   "source": [
    "# Önce runtime'ı yeniden başlat ve temiz kurulum yap\n",
    "!pip uninstall transformers accelerate -y\n",
    "!pip install transformers==4.44.2 accelerate==0.34.2 bitsandbytes==0.43.3 peft==0.12.0 -q\n",
    "!pip install sentencepiece protobuf -q"
   ]
  },
  {
   "cell_type": "code",
   "execution_count": null,
   "metadata": {},
   "outputs": [],
   "source": [
    "# Cache temizliği\n",
    "import os\n",
    "import shutil\n",
    "\n",
    "cache_dir = os.path.expanduser('~/.cache/huggingface')\n",
    "if os.path.exists(cache_dir):\n",
    "    shutil.rmtree(cache_dir)\n",
    "    print(\"Cache temizlendi\")"
   ]
  },
  {
   "cell_type": "code",
   "execution_count": null,
   "metadata": {},
   "outputs": [],
   "source": [
    "# Runtime'ı yeniden başlatmak için\n",
    "import IPython\n",
    "app = IPython.Application.instance()\n",
    "app.kernel.do_shutdown(True)"
   ]
  },
  {
   "cell_type": "markdown",
   "metadata": {},
   "source": [
    "## Runtime yeniden başladıktan sonra buradan devam edin:"
   ]
  },
  {
   "cell_type": "code",
   "execution_count": null,
   "metadata": {},
   "outputs": [],
   "source": [
    "# Gerekli kütüphaneleri import et\n",
    "import torch\n",
    "from transformers import AutoModelForCausalLM, AutoTokenizer, BitsAndBytesConfig\n",
    "from peft import LoraConfig, get_peft_model, prepare_model_for_kbit_training\n",
    "\n",
    "print(\"=\"*70)\n",
    "print(\"MODEL YÜKLEME - Qwen3-8B\")\n",
    "print(\"=\"*70)\n",
    "\n",
    "# Versiyon kontrolü\n",
    "import transformers\n",
    "print(f\"Transformers version: {transformers.__version__}\")\n",
    "\n",
    "MODEL_ID = \"Qwen/Qwen2.5-7B-Instruct\"  # Daha stabil bir model\n",
    "print(f\"Model: {MODEL_ID}\")"
   ]
  },
  {
   "cell_type": "code",
   "execution_count": null,
   "metadata": {},
   "outputs": [],
   "source": [
    "# 4-bit kuantizasyon ayarları\n",
    "bnb_config = BitsAndBytesConfig(\n",
    "    load_in_4bit=True,\n",
    "    bnb_4bit_use_double_quant=True,\n",
    "    bnb_4bit_quant_type=\"nf4\",\n",
    "    bnb_4bit_compute_dtype=torch.bfloat16\n",
    ")\n",
    "print(\"✅ 4-bit kuantizasyon ayarlandı\")"
   ]
  },
  {
   "cell_type": "code",
   "execution_count": null,
   "metadata": {},
   "outputs": [],
   "source": [
    "# Tokenizer yükle\n",
    "print(\"\\n⏳ Tokenizer yükleniyor...\")\n",
    "tokenizer = AutoTokenizer.from_pretrained(\n",
    "    MODEL_ID,\n",
    "    trust_remote_code=True\n",
    ")\n",
    "\n",
    "if tokenizer.pad_token is None:\n",
    "    tokenizer.pad_token = tokenizer.eos_token\n",
    "    tokenizer.pad_token_id = tokenizer.eos_token_id\n",
    "\n",
    "print(\"✅ Tokenizer yüklendi\")\n",
    "print(f\"   Vocab size: {len(tokenizer)}\")"
   ]
  },
  {
   "cell_type": "code",
   "execution_count": null,
   "metadata": {},
   "outputs": [],
   "source": [
    "# Model yükle\n",
    "print(\"\\n⏳ Model yükleniyor (5-10 dakika sürebilir)...\")\n",
    "model = AutoModelForCausalLM.from_pretrained(\n",
    "    MODEL_ID,\n",
    "    quantization_config=bnb_config,\n",
    "    device_map=\"auto\",\n",
    "    trust_remote_code=True,\n",
    "    torch_dtype=torch.bfloat16,\n",
    "    use_cache=False\n",
    ")\n",
    "print(\"✅ Model yüklendi (4-bit)\")"
   ]
  },
  {
   "cell_type": "code",
   "execution_count": null,
   "metadata": {},
   "outputs": [],
   "source": [
    "# LoRA konfigürasyonu\n",
    "lora_config = LoraConfig(\n",
    "    r=64,\n",
    "    lora_alpha=128,\n",
    "    target_modules=[\"q_proj\", \"k_proj\", \"v_proj\", \"o_proj\", \"gate_proj\", \"up_proj\", \"down_proj\"],\n",
    "    lora_dropout=0.05,\n",
    "    bias=\"none\",\n",
    "    task_type=\"CAUSAL_LM\"\n",
    ")\n",
    "\n",
    "# Model'i LoRA için hazırla\n",
    "model = prepare_model_for_kbit_training(model)\n",
    "model = get_peft_model(model, lora_config)\n",
    "\n",
    "# İstatistikler\n",
    "trainable_params = sum(p.numel() for p in model.parameters() if p.requires_grad)\n",
    "all_params = sum(p.numel() for p in model.parameters())\n",
    "\n",
    "print(\"\\n📊 Model İstatistikleri:\")\n",
    "print(f\"   Toplam parametre: {all_params:,}\")\n",
    "print(f\"   Eğitilebilir: {trainable_params:,}\")\n",
    "print(f\"   Eğitilebilir %: {100 * trainable_params / all_params:.2f}%\")"
   ]
  },
  {
   "cell_type": "code",
   "execution_count": null,
   "metadata": {},
   "outputs": [],
   "source": [
    "# GPU bellek durumu\n",
    "if torch.cuda.is_available():\n",
    "    allocated = torch.cuda.memory_allocated() / 1024**3\n",
    "    reserved = torch.cuda.memory_reserved() / 1024**3\n",
    "    print(f\"\\n💾 GPU Bellek:\")\n",
    "    print(f\"   Kullanılan: {allocated:.2f} GB\")\n",
    "    print(f\"   Rezerve: {reserved:.2f} GB\")\n",
    "\n",
    "print(\"\\n✅ MODEL HAZIR\")"
   ]
  },
  {
   "cell_type": "markdown",
   "metadata": {},
   "source": [
    "## Alternatif: Daha Küçük Model Kullanımı\n",
    "\n",
    "Eğer yukarıdaki model çok büyükse, daha küçük bir model kullanabilirsiniz:"
   ]
  },
  {
   "cell_type": "code",
   "execution_count": null,
   "metadata": {},
   "outputs": [],
   "source": [
    "# Alternatif: Daha küçük Qwen modeli\n",
    "# MODEL_ID = \"Qwen/Qwen2.5-1.5B-Instruct\"\n",
    "# veya\n",
    "# MODEL_ID = \"Qwen/Qwen2.5-3B-Instruct\""
   ]
  }
 ],
 "metadata": {
  "kernelspec": {
   "display_name": "Python 3",
   "language": "python",
   "name": "python3"
  },
  "language_info": {
   "codemirror_mode": {
    "name": "ipython",
    "version": 3
   },
   "file_extension": ".py",
   "mimetype": "text/x-python",
   "name": "python",
   "nbconvert_exporter": "python",
   "pygments_lexer": "ipython3",
   "version": "3.10.0"
  }
 },
 "nbformat": 4,
 "nbformat_minor": 4
}