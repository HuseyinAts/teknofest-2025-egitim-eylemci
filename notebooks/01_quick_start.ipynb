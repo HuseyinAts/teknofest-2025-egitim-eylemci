{
 "cells": [
  {
   "cell_type": "markdown",
   "metadata": {},
   "source": [
    "# TEKNOFEST 2025 - Quick Start\n",
    "## Eğitim Teknolojileri Eylemcisi\n",
    "\n",
    "Bu notebook, projenin temel bileşenlerini test etmek için hazırlanmıştır."
   ]
  },
  {
   "cell_type": "code",
   "execution_count": null,
   "metadata": {},
   "outputs": [],
   "source": [
    "# Temel import'lar\n",
    "import sys\n",
    "import os\n",
    "sys.path.append('../src')\n",
    "\n",
    "import pandas as pd\n",
    "import numpy as np\n",
    "from dotenv import load_dotenv\n",
    "\n",
    "# Ortam değişkenlerini yükle\n",
    "load_dotenv()"
   ]
  },
  {
   "cell_type": "code",
   "execution_count": null,
   "metadata": {},
   "outputs": [],
   "source": [
    "# Learning Path Agent'ı test et\n",
    "from agents.learning_path_agent import LearningPathAgent, StudentProfile\n",
    "\n",
    "# Agent'ı başlat\n",
    "agent = LearningPathAgent()\n",
    "\n",
    "# Örnek öğrenci profili\n",
    "profile = StudentProfile(\n",
    "    student_id=\"12345\",\n",
    "    learning_style=\"visual\",\n",
    "    grade_level=9,\n",
    "    current_knowledge={'Matematik': 0.3}\n",
    ")\n",
    "\n",
    "print(\"Öğrenci Profili:\")\n",
    "print(f\"ID: {profile.student_id}\")\n",
    "print(f\"Öğrenme Stili: {profile.learning_style}\")\n",
    "print(f\"Sınıf: {profile.grade_level}\")"
   ]
  },
  {
   "cell_type": "code",
   "execution_count": null,
   "metadata": {},
   "outputs": [],
   "source": [
    "# Kişiselleştirilmiş öğrenme yolu oluştur\n",
    "path = agent.create_personalized_path(profile, 'Matematik', 4)\n",
    "\n",
    "# Sonuçları DataFrame'e çevir\n",
    "df = pd.DataFrame(path)\n",
    "df"
   ]
  },
  {
   "cell_type": "code",
   "execution_count": null,
   "metadata": {},
   "outputs": [],
   "source": [
    "# Öğrenme stili analizi test\n",
    "test_responses = [\n",
    "    \"görsel materyaller tercih ederim\",\n",
    "    \"şema ve grafiklerle öğrenirim\",\n",
    "    \"videolu anlatımlar faydalı\"\n",
    "]\n",
    "\n",
    "detected_style = agent.analyze_learning_style(test_responses)\n",
    "print(f\"Tespit edilen öğrenme stili: {detected_style}\")"
   ]
  },
  {
   "cell_type": "markdown",
   "metadata": {},
   "source": [
    "## Veri Görselleştirme"
   ]
  },
  {
   "cell_type": "code",
   "execution_count": null,
   "metadata": {},
   "outputs": [],
   "source": [
    "# Zorluk seviyesi progresyonu\n",
    "import matplotlib.pyplot as plt\n",
    "\n",
    "weeks = [item['hafta'] for item in path]\n",
    "difficulties = [item['zorluk'] for item in path]\n",
    "\n",
    "plt.figure(figsize=(10, 6))\n",
    "plt.plot(weeks, difficulties, marker='o', linewidth=2, markersize=8)\n",
    "plt.xlabel('Hafta')\n",
    "plt.ylabel('Zorluk Seviyesi')\n",
    "plt.title('Öğrenme Yolu Zorluk Progresyonu (ZPD)')\n",
    "plt.grid(True, alpha=0.3)\n",
    "plt.show()"
   ]
  }
 ],
 "metadata": {
  "kernelspec": {
   "display_name": "Python 3",
   "language": "python",
   "name": "python3"
  },
  "language_info": {
   "codemirror_mode": {
    "name": "ipython",
    "version": 3
   },
   "file_extension": ".py",
   "mimetype": "text/x-python",
   "name": "python",
   "nbconvert_exporter": "python",
   "pygments_lexer": "ipython3",
   "version": "3.11.0"
  }
 },
 "nbformat": 4,
 "nbformat_minor": 4
}